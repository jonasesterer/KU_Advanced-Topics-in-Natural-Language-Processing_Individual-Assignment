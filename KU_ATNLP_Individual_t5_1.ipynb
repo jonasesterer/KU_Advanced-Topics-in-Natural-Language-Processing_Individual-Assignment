{
  "cells": [
    {
      "cell_type": "code",
      "execution_count": null,
      "metadata": {
        "collapsed": true,
        "id": "UaqIi_kkO5Wm"
      },
      "outputs": [],
      "source": [
        "%%capture\n",
        "!sudo apt-get update\n",
        "!sudo apt-get install python3.11\n",
        "!python3.11 --version"
      ]
    },
    {
      "cell_type": "code",
      "execution_count": null,
      "metadata": {
        "collapsed": true,
        "id": "Z4S-UNpvMq91"
      },
      "outputs": [],
      "source": [
        "%%capture\n",
        "!curl -O https://bootstrap.pypa.io/get-pip.py\n",
        "!python3.11 get-pip.py\n",
        "!python3.11 -m pip install torch transformers sentencepiece pydantic tqdm numpy matplotlib ipykernel"
      ]
    },
    {
      "cell_type": "code",
      "execution_count": null,
      "metadata": {
        "collapsed": true,
        "id": "MvbypwqwLY1l"
      },
      "outputs": [],
      "source": [
        "!git clone https://github.com/jonasesterer/KU_Advanced-Topics-in-Natural-Language-Processing_Individual-Assignment.git\n",
        "%cd KU_Advanced-Topics-in-Natural-Language-Processing_Individual-Assignment"
      ]
    },
    {
      "cell_type": "code",
      "execution_count": null,
      "metadata": {
        "collapsed": true,
        "id": "AQ01uM0bTpSH"
      },
      "outputs": [],
      "source": [
        "%%capture\n",
        "!ls\n",
        "!chmod +x windows_setup.sh\n",
        "!./windows_setup.sh"
      ]
    },
    {
      "cell_type": "code",
      "execution_count": null,
      "metadata": {
        "id": "5000qJlbo6Vu"
      },
      "outputs": [],
      "source": [
        "from time import time\n",
        "from IPython.display import display, Image\n",
        "import os\n",
        "from google.colab import files\n",
        "\n",
        "from google.colab import drive\n",
        "\n",
        "# Mount Google Drive\n",
        "drive.mount('/content/drive')\n",
        "\n",
        "# Configuration variables\n",
        "experiment_number = 1\n",
        "training_data_variations = [\n",
        "    \"./data/datafiles/simple_split/size_variations/tasks_train_simple_p1.txt\",\n",
        "    \"./data/datafiles/simple_split/size_variations/tasks_train_simple_p2.txt\",\n",
        "    \"./data/datafiles/simple_split/size_variations/tasks_train_simple_p4.txt\",\n",
        "    \"./data/datafiles/simple_split/size_variations/tasks_train_simple_p8.txt\",\n",
        "    \"./data/datafiles/simple_split/size_variations/tasks_train_simple_p16.txt\",\n",
        "    \"./data/datafiles/simple_split/size_variations/tasks_train_simple_p32.txt\",\n",
        "    \"./data/datafiles/simple_split/size_variations/tasks_train_simple_p64.txt\",\n",
        "    \"./data/datafiles/simple_split/tasks_train_simple.txt\",\n",
        "]\n",
        "testing_data_variations = [\n",
        "    \"./data/datafiles/simple_split/size_variations/tasks_test_simple_p1.txt\",\n",
        "    \"./data/datafiles/simple_split/size_variations/tasks_test_simple_p2.txt\",\n",
        "    \"./data/datafiles/simple_split/size_variations/tasks_test_simple_p4.txt\",\n",
        "    \"./data/datafiles/simple_split/size_variations/tasks_test_simple_p8.txt\",\n",
        "    \"./data/datafiles/simple_split/size_variations/tasks_test_simple_p16.txt\",\n",
        "    \"./data/datafiles/simple_split/size_variations/tasks_test_simple_p32.txt\",\n",
        "    \"./data/datafiles/simple_split/size_variations/tasks_test_simple_p64.txt\",\n",
        "    \"./data/datafiles/simple_split/tasks_test_simple.txt\",\n",
        "]\n",
        "results_folder = \"./results_ex1\"\n",
        "drive_folder = \"/content/drive/My Drive/Results ATNLP Individual/\"\n",
        "\n",
        "# Ensure Drive folder exists\n",
        "os.makedirs(drive_folder, exist_ok=True)\n",
        "\n",
        "def running_experiment_1_configurations(model_type, num_steps):\n",
        "  # Step 1: Training\n",
        "  training_start_time = time()\n",
        "  for train_file, test_file in zip(training_data_variations, testing_data_variations):\n",
        "      os.system(f\"python3.11 -m experiments.train_me {experiment_number} {train_file} {test_file} {results_folder} {model_type} {num_steps}\")\n",
        "  training_duration = (time() - training_start_time) / 60  # Convert to minutes\n",
        "  print(f\"Total training time experiment {experiment_number}: {training_duration:.2f} mins\")\n",
        "\n",
        "  # Step 2: Evaluation\n",
        "  evaluation_start_time = time()\n",
        "  os.system(f\"python3.11 -m experiments.evaluate_me {results_folder} {experiment_number} {model_type} {num_steps}\")\n",
        "  evaluation_duration = (time() - evaluation_start_time) / 60  # Convert to minutes\n",
        "  print(f\"Total evaluation time experiment {experiment_number}: {evaluation_duration:.2f} mins\")\n",
        "\n",
        "  # Step 3: Display Plot\n",
        "  display(Image(f\"Plot_Individual_{experiment_number}_{model_type}_{num_steps}.png\"))\n",
        "\n",
        "  # Step 4: Save Files to Google Drive\n",
        "  files_to_download = [\n",
        "      f\"Plot_Individual_{experiment_number}_{model_type}_{num_steps}.png\",\n",
        "      f\"Results_Individual_{experiment_number}_{model_type}_{num_steps}.pkl\"\n",
        "  ]\n",
        "  for file in files_to_download:\n",
        "      if os.path.exists(file):\n",
        "          destination = os.path.join(drive_folder, os.path.basename(file))\n",
        "          shutil.move(file, destination)\n",
        "          print(f\"File saved to Google Drive: {destination}\")\n",
        "      else:\n",
        "          print(f\"File {file} not found!\")\n",
        "\n",
        "  # Step 5: Download Files\n",
        "  for file in files_to_download:\n",
        "      if os.path.exists(file):\n",
        "          files.download(file)\n",
        "      else:\n",
        "          print(f\"File {file} not found!\")\n"
      ]
    },
    {
      "cell_type": "code",
      "execution_count": null,
      "metadata": {
        "colab": {
          "background_save": true
        },
        "id": "Lg5sAMZhpiJX"
      },
      "outputs": [],
      "source": [
        "model_type = \"pretrained\"\n",
        "num_steps = 1000\n",
        "running_experiment_1_configurations(model_type, num_steps)"
      ]
    },
    {
      "cell_type": "code",
      "execution_count": null,
      "metadata": {
        "colab": {
          "background_save": true
        },
        "id": "z0xvFEisp26Q"
      },
      "outputs": [],
      "source": [
        "model_type = \"pretrained\"\n",
        "num_steps = 10000\n",
        "running_experiment_1_configurations(model_type, num_steps)"
      ]
    },
    {
      "cell_type": "code",
      "execution_count": null,
      "metadata": {
        "colab": {
          "background_save": true
        },
        "id": "vdUX3sClp3Gx"
      },
      "outputs": [],
      "source": [
        "model_type = \"pretrained\"\n",
        "num_steps = 100000\n",
        "running_experiment_1_configurations(model_type, num_steps)"
      ]
    },
    {
      "cell_type": "code",
      "execution_count": null,
      "metadata": {
        "id": "pElZ5RZEp3Yu"
      },
      "outputs": [],
      "source": [
        "model_type = \"random\"\n",
        "num_steps = 1000\n",
        "running_experiment_1_configurations(model_type, num_steps)"
      ]
    },
    {
      "cell_type": "code",
      "execution_count": null,
      "metadata": {
        "id": "ydUJkO9pp3fk"
      },
      "outputs": [],
      "source": [
        "model_type = \"random\"\n",
        "num_steps = 10000\n",
        "running_experiment_1_configurations(model_type, num_steps)"
      ]
    },
    {
      "cell_type": "code",
      "execution_count": null,
      "metadata": {
        "id": "N3nhFIJ9p3m0",
        "colab": {
          "base_uri": "https://localhost:8080/"
        },
        "outputId": "1714c46d-c5ee-475c-f7a6-3b6859375eea"
      },
      "outputs": [
        {
          "output_type": "stream",
          "name": "stdout",
          "text": [
            "Total training time experiment 1: 121.96 mins\n"
          ]
        }
      ],
      "source": [
        "model_type = \"random\"\n",
        "num_steps = 100000\n",
        "running_experiment_1_configurations(model_type, num_steps)"
      ]
    },
    {
      "cell_type": "code",
      "execution_count": null,
      "metadata": {
        "id": "SCzry1JEn06d"
      },
      "outputs": [],
      "source": [
        "# Run the aggregation and plotting script for Experiment 1\n",
        "!python3.11 -m experiments.aggregate_and_plot_experiment_1\n",
        "\n",
        "# Download the plot and aggregated results\n",
        "from google.colab import files\n",
        "\n",
        "files_to_download = [\n",
        "    \"Plot_Aggregated_Experiment_1.png\",\n",
        "    \"Results_Aggregated_Experiment_1.pkl\"\n",
        "]\n",
        "for file in files_to_download:\n",
        "    if os.path.exists(file):\n",
        "        destination = os.path.join(drive_folder, os.path.basename(file))\n",
        "        shutil.move(file, destination)\n",
        "        print(f\"File saved to Google Drive: {destination}\")\n",
        "    else:\n",
        "        print(f\"File {file} not found!\")\n",
        "for file in files_to_download:\n",
        "    if os.path.exists(file):\n",
        "        files.download(file)\n",
        "    else:\n",
        "        print(f\"File {file} not found!\")"
      ]
    }
  ],
  "metadata": {
    "accelerator": "GPU",
    "colab": {
      "gpuType": "L4",
      "machine_shape": "hm",
      "provenance": []
    },
    "kernelspec": {
      "display_name": "Python 3",
      "name": "python3"
    },
    "language_info": {
      "name": "python"
    }
  },
  "nbformat": 4,
  "nbformat_minor": 0
}
