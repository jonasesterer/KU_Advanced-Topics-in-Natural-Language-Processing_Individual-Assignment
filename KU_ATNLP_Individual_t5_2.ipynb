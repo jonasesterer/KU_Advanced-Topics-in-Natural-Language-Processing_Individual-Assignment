{
  "cells": [
    {
      "cell_type": "code",
      "execution_count": null,
      "metadata": {
        "collapsed": true,
        "id": "UaqIi_kkO5Wm"
      },
      "outputs": [],
      "source": [
        "%%capture\n",
        "!sudo apt-get update\n",
        "!sudo apt-get install python3.11\n",
        "!python3.11 --version"
      ]
    },
    {
      "cell_type": "code",
      "execution_count": null,
      "metadata": {
        "collapsed": true,
        "id": "Z4S-UNpvMq91"
      },
      "outputs": [],
      "source": [
        "%%capture\n",
        "!curl -O https://bootstrap.pypa.io/get-pip.py\n",
        "!python3.11 get-pip.py\n",
        "!python3.11 -m pip install torch transformers sentencepiece pydantic tqdm numpy matplotlib ipykernel"
      ]
    },
    {
      "cell_type": "code",
      "execution_count": null,
      "metadata": {
        "collapsed": true,
        "id": "MvbypwqwLY1l"
      },
      "outputs": [],
      "source": [
        "!git clone https://github.com/jonasesterer/KU_Advanced-Topics-in-Natural-Language-Processing_Individual-Assignment.git\n",
        "%cd KU_Advanced-Topics-in-Natural-Language-Processing_Individual-Assignment"
      ]
    },
    {
      "cell_type": "code",
      "execution_count": null,
      "metadata": {
        "collapsed": true,
        "id": "AQ01uM0bTpSH"
      },
      "outputs": [],
      "source": [
        "%%capture\n",
        "!ls\n",
        "!chmod +x windows_setup.sh\n",
        "!./windows_setup.sh"
      ]
    },
    {
      "cell_type": "code",
      "execution_count": null,
      "metadata": {
        "id": "6XfvW3erXlCd"
      },
      "outputs": [],
      "source": [
        "from time import time\n",
        "from IPython.display import display, Image\n",
        "import os\n",
        "from google.colab import files\n",
        "import shutil\n",
        "from google.colab import drive\n",
        "\n",
        "# Mount Google Drive\n",
        "drive.mount('/content/drive')\n",
        "\n",
        "# Configuration variables\n",
        "experiment_number = 2\n",
        "train_file = \"./data/datafiles/length_split/tasks_train_length.txt\"\n",
        "test_file = \"./data/datafiles/length_split/tasks_test_length.txt\"\n",
        "results_folder = \"./results_ex2\"\n",
        "\n",
        "drive_folder = \"/content/drive/My Drive/Results ATNLP Individual/\" # To be adjusted\n",
        "\n",
        "def running_experiment_2_configurations(model_type, num_steps):\n",
        "    # Step 1: Training\n",
        "    training_start_time = time()\n",
        "    os.system(f\"python3.11 -m experiments.train_me {experiment_number} {train_file} {test_file} {results_folder} {model_type} {num_steps}\")\n",
        "    training_duration = (time() - training_start_time) / 60  # Convert to minutes\n",
        "    print(f\"Total training time experiment {experiment_number}: {training_duration:.2f} mins\")\n",
        "\n",
        "    # Step 2: Evaluation\n",
        "    evaluation_start_time = time()\n",
        "    os.system(f\"python3.11 -m experiments.evaluate_me {results_folder} {experiment_number} {model_type} {num_steps}\")\n",
        "    evaluation_duration = (time() - evaluation_start_time) / 60  # Convert to minutes\n",
        "    print(f\"Total evaluation time experiment {experiment_number}: {evaluation_duration:.2f} mins\")\n",
        "\n",
        "    # Step 3: Display Plots\n",
        "    standard_plot = f\"Plot_Individual_{experiment_number}_{model_type}_{num_steps}_(Standard).png\"\n",
        "    oracle_plot = f\"Plot_Individual_{experiment_number}_{model_type}_{num_steps}_(Oracle Lengths).png\"\n",
        "    display(Image(standard_plot))\n",
        "    display(Image(oracle_plot))\n",
        "\n",
        "    # Step 4: save files\n",
        "    files_to_download = [\n",
        "        standard_plot,\n",
        "        oracle_plot,\n",
        "        f\"Results_Individual_{experiment_number}_{model_type}_{num_steps}.pkl\"\n",
        "    ]\n",
        "\n",
        "\n",
        "    # Save to Google Drive\n",
        "    for file in files_to_download:\n",
        "        if os.path.exists(file):\n",
        "            destination = os.path.join(drive_folder, os.path.basename(file))\n",
        "            shutil.move(file, destination)\n",
        "            print(f\"File saved to Google Drive: {destination}\")\n",
        "        else:\n",
        "            print(f\"File {file} not found!\")\n",
        "\n",
        "    # Download\n",
        "    for file in files_to_download:\n",
        "        if os.path.exists(file):\n",
        "            files.download(file)\n",
        "        else:\n",
        "            print(f\"File {file} not found!\")\n"
      ]
    },
    {
      "cell_type": "code",
      "execution_count": null,
      "metadata": {
        "id": "cqc4v1lMXm82"
      },
      "outputs": [],
      "source": [
        "# Run Experiment 2 with specified configurations\n",
        "model_type = \"pretrained\"\n",
        "num_steps = 10000\n",
        "running_experiment_2_configurations(model_type, num_steps)"
      ]
    },
    {
      "cell_type": "code",
      "execution_count": null,
      "metadata": {
        "id": "zISHRl53YXM4"
      },
      "outputs": [],
      "source": [
        "# Run Experiment 2 with specified configurations\n",
        "model_type = \"random\"\n",
        "num_steps = 10000\n",
        "running_experiment_2_configurations(model_type, num_steps)"
      ]
    },
    {
      "cell_type": "code",
      "source": [
        "# Run Experiment 2 with specified configurations\n",
        "model_type = \"pretrained\"\n",
        "num_steps = 100000\n",
        "running_experiment_2_configurations(model_type, num_steps)"
      ],
      "metadata": {
        "id": "bkZkBL-FTpOC"
      },
      "execution_count": null,
      "outputs": []
    },
    {
      "cell_type": "code",
      "source": [
        "# Run Experiment 2 with specified configurations\n",
        "model_type = \"random\"\n",
        "num_steps = 100000\n",
        "running_experiment_2_configurations(model_type, num_steps)"
      ],
      "metadata": {
        "id": "tKMG5T6QTk60"
      },
      "execution_count": null,
      "outputs": []
    },
    {
      "cell_type": "code",
      "source": [
        "# Run the aggregation and plotting script for Experiment 1\n",
        "!python3.11 -m experiments.aggregate_and_plot_experiment_2\n",
        "\n",
        "# Download the plot and aggregated results\n",
        "from google.colab import files\n",
        "\n",
        "files_to_download = [\n",
        "    \"Plot_Overlayed_Standard_Experiment2.png\",\n",
        "    \"Plot_Overlayed_Oracle_Experiment2.png\",\n",
        "    \"Results_Aggregated_Experiment_2.pkl\"\n",
        "]\n",
        "for file in files_to_download:\n",
        "    if os.path.exists(file):\n",
        "        destination = os.path.join(drive_folder, os.path.basename(file))\n",
        "        shutil.move(file, destination)\n",
        "        print(f\"File saved to Google Drive: {destination}\")\n",
        "    else:\n",
        "        print(f\"File {file} not found!\")\n",
        "for file in files_to_download:\n",
        "    if os.path.exists(file):\n",
        "        files.download(file)\n",
        "    else:\n",
        "        print(f\"File {file} not found!\")"
      ],
      "metadata": {
        "id": "1aCRn9Uunw3g"
      },
      "execution_count": null,
      "outputs": []
    }
  ],
  "metadata": {
    "accelerator": "GPU",
    "colab": {
      "gpuType": "L4",
      "machine_shape": "hm",
      "provenance": []
    },
    "kernelspec": {
      "display_name": "Python 3",
      "name": "python3"
    },
    "language_info": {
      "name": "python"
    }
  },
  "nbformat": 4,
  "nbformat_minor": 0
}
