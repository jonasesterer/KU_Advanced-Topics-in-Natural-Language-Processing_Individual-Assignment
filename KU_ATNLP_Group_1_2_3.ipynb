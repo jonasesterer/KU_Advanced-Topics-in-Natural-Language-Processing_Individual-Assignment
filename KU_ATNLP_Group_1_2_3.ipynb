{
  "cells": [
    {
      "cell_type": "code",
      "execution_count": null,
      "metadata": {
        "collapsed": true,
        "id": "UaqIi_kkO5Wm"
      },
      "outputs": [],
      "source": [
        "%%capture\n",
        "!sudo apt-get update\n",
        "!sudo apt-get install python3.11\n",
        "!python3.11 --version"
      ]
    },
    {
      "cell_type": "code",
      "execution_count": null,
      "metadata": {
        "collapsed": true,
        "id": "Z4S-UNpvMq91"
      },
      "outputs": [],
      "source": [
        "%%capture\n",
        "!curl -O https://bootstrap.pypa.io/get-pip.py\n",
        "!python3.11 get-pip.py\n",
        "!python3.11 -m pip install torch transformers tqdm numpy matplotlib ipykernel sentencepiece pydantic"
      ]
    },
    {
      "cell_type": "code",
      "execution_count": null,
      "metadata": {
        "colab": {
          "base_uri": "https://localhost:8080/"
        },
        "collapsed": true,
        "id": "MvbypwqwLY1l",
        "outputId": "c9ec0e6c-9960-4079-ba9a-dd7b9631fc38"
      },
      "outputs": [
        {
          "name": "stdout",
          "output_type": "stream",
          "text": [
            "Cloning into 'KU-NLP-me-online2'...\n",
            "remote: Enumerating objects: 795, done.\u001b[K\n",
            "remote: Counting objects: 100% (98/98), done.\u001b[K\n",
            "remote: Compressing objects: 100% (98/98), done.\u001b[K\n",
            "remote: Total 795 (delta 67), reused 0 (delta 0), pack-reused 697 (from 1)\u001b[K\n",
            "Receiving objects: 100% (795/795), 4.64 MiB | 21.91 MiB/s, done.\n",
            "Resolving deltas: 100% (545/545), done.\n",
            "/content/KU-NLP-me-online2\n"
          ]
        }
      ],
      "source": [
        "!git clone https://github.com/jonasesterer/KU_Advanced-Topics-in-Natural-Language-Processing_Individual-Assignment.git\n",
        "%cd KU_Advanced-Topics-in-Natural-Language-Processing_Individual-Assignment"
      ]
    },
    {
      "cell_type": "code",
      "execution_count": null,
      "metadata": {
        "collapsed": true,
        "id": "AQ01uM0bTpSH"
      },
      "outputs": [],
      "source": [
        "%%capture\n",
        "!ls\n",
        "!chmod +x windows_setup.sh\n",
        "!./windows_setup.sh"
      ]
    },
    {
      "cell_type": "markdown",
      "metadata": {
        "id": "SC8IZ26Fv5DU"
      },
      "source": [
        "Group Experiment 1: Transformer, 100'000 samples"
      ]
    },
    {
      "cell_type": "code",
      "execution_count": null,
      "metadata": {
        "colab": {
          "background_save": true
        },
        "id": "iYvnhPqNNUR6"
      },
      "outputs": [],
      "source": [
        "from time import time\n",
        "training_start_time = time()\n",
        "!python3.11 -m experiments.train 1 ./data/datafiles/simple_split/size_variations/tasks_train_simple_p1.txt ./data/datafiles/simple_split/size_variations/tasks_test_simple_p1.txt ./results_ex1\n",
        "!python3.11 -m experiments.train 1 ./data/datafiles/simple_split/size_variations/tasks_train_simple_p2.txt ./data/datafiles/simple_split/size_variations/tasks_test_simple_p2.txt ./results_ex1\n",
        "!python3.11 -m experiments.train 1 ./data/datafiles/simple_split/size_variations/tasks_train_simple_p4.txt ./data/datafiles/simple_split/size_variations/tasks_test_simple_p4.txt ./results_ex1\n",
        "!python3.11 -m experiments.train 1 ./data/datafiles/simple_split/size_variations/tasks_train_simple_p8.txt ./data/datafiles/simple_split/size_variations/tasks_test_simple_p8.txt ./results_ex1\n",
        "!python3.11 -m experiments.train 1 ./data/datafiles/simple_split/size_variations/tasks_train_simple_p16.txt ./data/datafiles/simple_split/size_variations/tasks_test_simple_p16.txt ./results_ex1\n",
        "!python3.11 -m experiments.train 1 ./data/datafiles/simple_split/size_variations/tasks_train_simple_p32.txt ./data/datafiles/simple_split/size_variations/tasks_test_simple_p32.txt ./results_ex1\n",
        "!python3.11 -m experiments.train 1 ./data/datafiles/simple_split/size_variations/tasks_train_simple_p64.txt ./data/datafiles/simple_split/size_variations/tasks_test_simple_p64.txt ./results_ex1\n",
        "!python3.11 -m experiments.train 1 ./data/datafiles/simple_split/tasks_train_simple.txt ./data/datafiles/simple_split/tasks_test_simple.txt ./results_ex1\n",
        "print(f\"Total training time experiment 1: {time() - training_start_time}\")"
      ]
    },
    {
      "cell_type": "code",
      "execution_count": null,
      "metadata": {
        "colab": {
          "background_save": true
        },
        "id": "c-qvDRQewg_x"
      },
      "outputs": [],
      "source": [
        "training_start_time = time()\n",
        "!python3.11 -m experiments.evaluate results_ex1 1\n",
        "print(f\"Total evaluation time experiment 1: {time() - training_start_time}\")\n",
        "\n",
        "from google.colab import files\n",
        "files.download(\"Plot_Group_1.png\")\n",
        "files.download(\"results_ex1/Results_Group_1.pkl\")"
      ]
    },
    {
      "cell_type": "markdown",
      "metadata": {
        "id": "vC4HLuyIs0E5"
      },
      "source": [
        "Group Experiment 2: Transformer, 200'000 samples"
      ]
    },
    {
      "cell_type": "code",
      "execution_count": null,
      "metadata": {
        "colab": {
          "background_save": true
        },
        "id": "BvE9017J9Sfr"
      },
      "outputs": [],
      "source": [
        "training_start_time = time()\n",
        "!python3.11 -m experiments.train 2 ./data/datafiles/length_split/tasks_train_length.txt ./data/datafiles/length_split/tasks_test_length.txt ./results_ex2"
      ]
    },
    {
      "cell_type": "code",
      "execution_count": null,
      "metadata": {
        "colab": {
          "background_save": true
        },
        "id": "tNQpekLs9fwx"
      },
      "outputs": [],
      "source": [
        "training_start_time = time()\n",
        "!python3.11 -m experiments.evaluate results_ex2 2\n",
        "print(f\"Total training time experiment 2: {time() - training_start_time}\")\n",
        "\n",
        "from google.colab import files\n",
        "files.download(\"Plot_Group_2_Standard.png\")\n",
        "files.download(\"Plot_Group_2_Oracle Lengths.png\")\n",
        "files.download(\"results_ex2/Results_Group_2.pkl\")"
      ]
    },
    {
      "cell_type": "markdown",
      "metadata": {
        "id": "g-jvdeyflh-i"
      },
      "source": [
        "Group Experiment 3: Transformer, 200'000 samples"
      ]
    },
    {
      "cell_type": "code",
      "execution_count": null,
      "metadata": {
        "colab": {
          "background_save": true
        },
        "id": "2kr_QDo-lirG"
      },
      "outputs": [],
      "source": [
        "training_start_time = time()\n",
        "!python3.11 -m experiments.train 3 ./data/datafiles/add_prim_split/with_additional_examples/tasks_train_addprim_complex_jump_num1_rep1.txt ./data/datafiles/add_prim_split/with_additional_examples/tasks_test_addprim_complex_jump_num1_rep1.txt ./results_ex3_p2\n",
        "!python3.11 -m experiments.train 3 ./data/datafiles/add_prim_split/with_additional_examples/tasks_train_addprim_complex_jump_num2_rep1.txt ./data/datafiles/add_prim_split/with_additional_examples/tasks_test_addprim_complex_jump_num2_rep1.txt ./results_ex3_p2\n",
        "!python3.11 -m experiments.train 3 ./data/datafiles/add_prim_split/with_additional_examples/tasks_train_addprim_complex_jump_num4_rep1.txt ./data/datafiles/add_prim_split/with_additional_examples/tasks_test_addprim_complex_jump_num4_rep1.txt ./results_ex3_p2\n",
        "!python3.11 -m experiments.train 3 ./data/datafiles/add_prim_split/with_additional_examples/tasks_train_addprim_complex_jump_num8_rep1.txt ./data/datafiles/add_prim_split/with_additional_examples/tasks_test_addprim_complex_jump_num8_rep1.txt ./results_ex3_p2\n",
        "!python3.11 -m experiments.train 3 ./data/datafiles/add_prim_split/with_additional_examples/tasks_train_addprim_complex_jump_num16_rep1.txt ./data/datafiles/add_prim_split/with_additional_examples/tasks_test_addprim_complex_jump_num16_rep1.txt ./results_ex3_p2\n",
        "!python3.11 -m experiments.train 3 ./data/datafiles/add_prim_split/with_additional_examples/tasks_train_addprim_complex_jump_num32_rep1.txt ./data/datafiles/add_prim_split/with_additional_examples/tasks_test_addprim_complex_jump_num32_rep1.txt ./results_ex3_p2\n",
        "\n",
        "!python3.11 -m experiments.train 3 ./data/datafiles/add_prim_split/tasks_train_addprim_turn_left.txt ./data/datafiles/add_prim_split/tasks_test_addprim_turn_left.txt ./results_ex3_p1\n",
        "!python3.11 -m experiments.train 3 ./data/datafiles/add_prim_split/tasks_train_addprim_jump.txt ./data/datafiles/add_prim_split/tasks_test_addprim_jump.txt ./results_ex3_p1\n",
        "print(f\"Total evaluation time experiment 3: {time() - training_start_time}\")"
      ]
    },
    {
      "cell_type": "code",
      "execution_count": null,
      "metadata": {
        "colab": {
          "background_save": true
        },
        "id": "2wr_2QPAliUg"
      },
      "outputs": [],
      "source": [
        "training_start_time = time()\n",
        "!python3.11 -m experiments.evaluate results_ex3_p1 3\n",
        "print(f\"Total evaluation time experiment 3: {time() - training_start_time}\")\n",
        "\n",
        "from google.colab import files\n",
        "files.download(\"Plot_Group_3.png\")\n",
        "files.download(\"results_ex3_p1/Results_Group_3.pkl\")"
      ]
    },
    {
      "cell_type": "code",
      "execution_count": null,
      "metadata": {
        "id": "wC4G6p-mdIqp"
      },
      "outputs": [],
      "source": [
        "training_start_time = time()\n",
        "!python3.11 -m experiments.evaluate results_ex3_p2 3\n",
        "print(f\"Total evaluation time experiment 3: {time() - training_start_time}\")\n",
        "\n",
        "from google.colab import files\n",
        "files.download(\"Plot_Group_3.png\")\n",
        "files.download(\"results_ex3_p2/Results_Group_3.pkl\")"
      ]
    }
  ],
  "metadata": {
    "accelerator": "GPU",
    "colab": {
      "gpuType": "A100",
      "machine_shape": "hm",
      "provenance": []
    },
    "kernelspec": {
      "display_name": "Python 3",
      "name": "python3"
    },
    "language_info": {
      "name": "python"
    }
  },
  "nbformat": 4,
  "nbformat_minor": 0
}
